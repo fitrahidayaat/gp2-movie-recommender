{
 "cells": [
  {
   "cell_type": "code",
   "execution_count": 2,
   "metadata": {},
   "outputs": [],
   "source": [
    "import pandas as pd"
   ]
  },
  {
   "cell_type": "code",
   "execution_count": 3,
   "metadata": {},
   "outputs": [],
   "source": [
    "movies = pd.read_csv('../data/movies.csv')\n",
    "ratings = pd.read_csv('../data/ratings.csv')\n",
    "users = pd.read_csv('../data/users.csv')"
   ]
  },
  {
   "cell_type": "code",
   "execution_count": 4,
   "metadata": {},
   "outputs": [
    {
     "data": {
      "text/plain": [
       "(25000095, 4)"
      ]
     },
     "execution_count": 4,
     "metadata": {},
     "output_type": "execute_result"
    }
   ],
   "source": [
    "ratings.shape"
   ]
  },
  {
   "cell_type": "code",
   "execution_count": 29,
   "metadata": {},
   "outputs": [],
   "source": [
    "user_ratings_count= {}\n",
    "for id in ratings['userId']:\n",
    "\tif id in user_ratings_count:\n",
    "\t\tuser_ratings_count[id] += 1\n",
    "\telse:\n",
    "\t\tuser_ratings_count[id] = 1\n",
    "user_ratings_count_list = []\n",
    "for key, val in user_ratings_count.items():\n",
    "    user_ratings_count_list.append((key, val))\n",
    "user_ratings_count_list.sort(key=lambda x:x[1])"
   ]
  },
  {
   "cell_type": "code",
   "execution_count": 39,
   "metadata": {},
   "outputs": [],
   "source": [
    "user_id_sorted = [pair[0] for pair in user_ratings_count_list]"
   ]
  },
  {
   "cell_type": "code",
   "execution_count": 41,
   "metadata": {},
   "outputs": [],
   "source": [
    "movie_ratings_count= {}\n",
    "for id in ratings['movieId']:\n",
    "\tif id in movie_ratings_count:\n",
    "\t\tmovie_ratings_count[id] += 1\n",
    "\telse:\n",
    "\t\tmovie_ratings_count[id] = 1\n",
    "movie_ratings_count_list = []\n",
    "for key, val in movie_ratings_count.items():\n",
    "    movie_ratings_count_list.append((key, val))\n",
    "movie_ratings_count_list.sort(key=lambda x:x[1])"
   ]
  },
  {
   "cell_type": "code",
   "execution_count": 42,
   "metadata": {},
   "outputs": [],
   "source": [
    "movie_id_sorted = [pair[0] for pair in movie_ratings_count_list]"
   ]
  },
  {
   "cell_type": "markdown",
   "metadata": {},
   "source": [
    "# generate"
   ]
  },
  {
   "cell_type": "code",
   "execution_count": 49,
   "metadata": {},
   "outputs": [
    {
     "name": "stdout",
     "output_type": "stream",
     "text": [
      "Graph saved to graph.host\n"
     ]
    }
   ],
   "source": [
    "# Define the file path to save the output\n",
    "output_file = \"graph.host\"\n",
    "\n",
    "# Extract user IDs for users 1 to 10\n",
    "user_ids = range(1, 4)\n",
    "\n",
    "# Filter ratings for user IDs 1 to 10\n",
    "filtered_ratings = ratings[ratings['userId'].isin(user_ids)]\n",
    "\n",
    "# Format the user nodes\n",
    "user_nodes = [(int(f\"1{user_id}\"), int(f\"1{user_id}\")) for user_id in user_ids]\n",
    "\n",
    "# Extract all unique movie IDs from filtered ratings\n",
    "movie_ids = filtered_ratings['movieId'].unique()\n",
    "movie_nodes = [(int(f\"2{movie_id}\"), int(f\"2{movie_id}\")) for movie_id in movie_ids]\n",
    "\n",
    "# Format the edges directly from filtered_ratings\n",
    "edges = [\n",
    "    (int(f\"3{index}\"), int(f\"1{row['userId']}\"), int(f\"2{row['movieId']}\"), int(row['rating']))\n",
    "    for index, row in filtered_ratings.iterrows()\n",
    "]\n",
    "\n",
    "# Write to file\n",
    "with open(output_file, \"w\") as file:\n",
    "    file.write('[\\n')\n",
    "    # Write user nodes\n",
    "    for node in user_nodes:\n",
    "        file.write(f'\\t({node[0]}, \\\"{node[1]}_\\\")\\n')\n",
    "    # Write movie nodes\n",
    "    for node in movie_nodes:\n",
    "        file.write(f'\\t({node[0]}, \\\"{node[1]}\\\")\\n')\n",
    "    # Separator\n",
    "    file.write('\\t|\\n')\n",
    "    # Write edges\n",
    "    for edge in edges:\n",
    "        file.write(f\"\\t{edge}\\n\")\n",
    "    file.write(']')\n",
    "\n",
    "print(f\"Graph saved to {output_file}\")\n"
   ]
  },
  {
   "cell_type": "code",
   "execution_count": 59,
   "metadata": {},
   "outputs": [
    {
     "name": "stdout",
     "output_type": "stream",
     "text": [
      "Graph saved to graph.host\n"
     ]
    }
   ],
   "source": [
    "# Define the file path to save the output\n",
    "output_file = \"graph.host\"\n",
    "\n",
    "# Extract movie IDs for movies 1 to 10\n",
    "movie_ids = movie_id_sorted[:15000]\n",
    "\n",
    "# Filter ratings for movie IDs 1 to 10\n",
    "filtered_ratings = ratings[ratings['movieId'].isin(movie_ids)]\n",
    "\n",
    "# Format the movie nodes\n",
    "movie_nodes = [(int(f\"2{movie_id}\"), int(f\"2{movie_id}\")) for movie_id in movie_ids]\n",
    "\n",
    "# Extract all unique user IDs from filtered ratings\n",
    "user_ids = filtered_ratings['userId'].unique()\n",
    "user_nodes = [(int(f\"1{user_id}\"), int(f\"1{user_id}\")) for user_id in user_ids]\n",
    "\n",
    "# Format the edges directly from filtered_ratings\n",
    "edges = [\n",
    "    (int(f\"3{index}\"), int(f\"1{row['userId']}\"), int(f\"2{row['movieId']}\"), int(row['rating']))\n",
    "    for index, row in filtered_ratings.iterrows()\n",
    "]\n",
    "\n",
    "# Write to file\n",
    "with open(output_file, \"w\") as file:\n",
    "    file.write('[\\n')\n",
    "    # Write user nodes\n",
    "    for node in user_nodes:\n",
    "        file.write(f'\\t({node[0]}, \\\"{node[1]}_\\\")\\n')\n",
    "    # Write movie nodes\n",
    "    for node in movie_nodes:\n",
    "        file.write(f'\\t({node[0]}, \\\"{node[1]}\\\")\\n')\n",
    "    # Separator\n",
    "    file.write('\\t|\\n')\n",
    "    # Write edges\n",
    "    for edge in edges:\n",
    "        file.write(f\"\\t{edge}\\n\")\n",
    "    file.write(']')\n",
    "\n",
    "print(f\"Graph saved to {output_file}\")\n"
   ]
  }
 ],
 "metadata": {
  "kernelspec": {
   "display_name": "Python 3",
   "language": "python",
   "name": "python3"
  },
  "language_info": {
   "codemirror_mode": {
    "name": "ipython",
    "version": 3
   },
   "file_extension": ".py",
   "mimetype": "text/x-python",
   "name": "python",
   "nbconvert_exporter": "python",
   "pygments_lexer": "ipython3",
   "version": "3.10.12"
  }
 },
 "nbformat": 4,
 "nbformat_minor": 2
}
